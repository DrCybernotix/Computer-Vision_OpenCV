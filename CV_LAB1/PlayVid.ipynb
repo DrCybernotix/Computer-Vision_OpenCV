{
 "cells": [
  {
   "cell_type": "markdown",
   "id": "9703f9ff",
   "metadata": {},
   "source": [
    "# Program to read and play video from a specified directory location."
   ]
  },
  {
   "cell_type": "code",
   "execution_count": 1,
   "id": "88f3c1a3",
   "metadata": {},
   "outputs": [],
   "source": [
    "import cv2"
   ]
  },
  {
   "cell_type": "code",
   "execution_count": 2,
   "id": "9919ac9c",
   "metadata": {},
   "outputs": [],
   "source": [
    "cap = cv2.VideoCapture(\"C:/Users/SHREYASH S BHATKAR/Desktop/CV/mamba.mp4\")"
   ]
  },
  {
   "cell_type": "markdown",
   "id": "39b5f4c3",
   "metadata": {},
   "source": [
    " Create a variable for VideoCapture object and read from input file"
   ]
  },
  {
   "cell_type": "code",
   "execution_count": 3,
   "id": "10dd93ae",
   "metadata": {},
   "outputs": [],
   "source": [
    "if (cap.isOpened() == False):\n",
    "    print(\"Error opening video  file\")"
   ]
  },
  {
   "cell_type": "markdown",
   "id": "654a9dc4",
   "metadata": {},
   "source": [
    "Check if VIDEO is opened successfully"
   ]
  },
  {
   "cell_type": "markdown",
   "id": "a57e4796",
   "metadata": {},
   "source": [
    "Read until video is completed"
   ]
  },
  {
   "cell_type": "code",
   "execution_count": 4,
   "id": "016148ad",
   "metadata": {},
   "outputs": [],
   "source": [
    "\n",
    "while (cap.isOpened()):\n",
    "\n",
    "    # Capture frame-by-frame\n",
    "    \n",
    "    ret, frame = cap.read()\n",
    "    if ret == True:\n",
    "\n",
    "        # Display the resulting frame\n",
    "        \n",
    "        cv2.imshow('Frame', frame)\n",
    "\n",
    "        # Press Q on keyboard to  exit\n",
    "        #1 fps\n",
    "        \n",
    "        if cv2.waitKey(1000) & 0xFF == ord('q'): \n",
    "           \n",
    "            break\n",
    "\n",
    "    # Break the loop\n",
    "    \n",
    "    else:\n",
    "        break\n"
   ]
  },
  {
   "cell_type": "markdown",
   "id": "94c19566",
   "metadata": {},
   "source": [
    " #cv2.waitKey=0 corressponds 0*FF hexadecimal constant or 8bits"
   ]
  },
  {
   "cell_type": "code",
   "execution_count": 5,
   "id": "e6b44287",
   "metadata": {},
   "outputs": [],
   "source": [
    "cap.release()"
   ]
  },
  {
   "cell_type": "markdown",
   "id": "db33920f",
   "metadata": {},
   "source": [
    "When everything done, release he video capture object"
   ]
  },
  {
   "cell_type": "code",
   "execution_count": 6,
   "id": "38ad9863",
   "metadata": {},
   "outputs": [],
   "source": [
    "cv2.destroyAllWindows()"
   ]
  },
  {
   "cell_type": "code",
   "execution_count": null,
   "id": "83a76aec",
   "metadata": {},
   "outputs": [],
   "source": []
  }
 ],
 "metadata": {
  "kernelspec": {
   "display_name": "Python 3 (ipykernel)",
   "language": "python",
   "name": "python3"
  },
  "language_info": {
   "codemirror_mode": {
    "name": "ipython",
    "version": 3
   },
   "file_extension": ".py",
   "mimetype": "text/x-python",
   "name": "python",
   "nbconvert_exporter": "python",
   "pygments_lexer": "ipython3",
   "version": "3.8.5"
  }
 },
 "nbformat": 4,
 "nbformat_minor": 5
}
