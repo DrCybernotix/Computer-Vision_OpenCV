{
 "cells": [
  {
   "cell_type": "markdown",
   "id": "c6db2d7d",
   "metadata": {},
   "source": [
    "# Program to change color and read with different colors."
   ]
  },
  {
   "cell_type": "code",
   "execution_count": 1,
   "id": "e87e8128",
   "metadata": {},
   "outputs": [],
   "source": [
    "import cv2"
   ]
  },
  {
   "cell_type": "markdown",
   "id": "04cb325c",
   "metadata": {},
   "source": [
    " Load the input image"
   ]
  },
  {
   "cell_type": "code",
   "execution_count": 2,
   "id": "487efb7f",
   "metadata": {},
   "outputs": [],
   "source": [
    "image = cv2.imread('C:/Users/SHREYASH S BHATKAR/Desktop/CV/itac.jpg')"
   ]
  },
  {
   "cell_type": "markdown",
   "id": "4991c473",
   "metadata": {},
   "source": [
    " for reading image at a specefic location/address"
   ]
  },
  {
   "cell_type": "code",
   "execution_count": null,
   "id": "561fd142",
   "metadata": {},
   "outputs": [],
   "source": [
    "cv2.waitKey(1000)"
   ]
  },
  {
   "cell_type": "markdown",
   "id": "3d77db8d",
   "metadata": {},
   "source": [
    "about how long the image will stay, if printed."
   ]
  },
  {
   "cell_type": "code",
   "execution_count": 3,
   "id": "fed0f2b0",
   "metadata": {},
   "outputs": [],
   "source": [
    "gray_image = cv2.cvtColor(image, cv2.COLOR_BGR2GRAY)"
   ]
  },
  {
   "cell_type": "markdown",
   "id": "f2d6d379",
   "metadata": {},
   "source": [
    "cvtColor() function to grayscale the image"
   ]
  },
  {
   "cell_type": "raw",
   "id": "87937def",
   "metadata": {},
   "source": [
    "cv2.IMREAD_COLOR: It specifies to load a color image. Any transparency of image will be neglected. It is the default flag. Alternatively, we can pass integer value 1 for this flag.\n",
    "\n",
    "\n",
    "cv2.IMREAD_GRAYSCALE: It specifies to load an image in grayscale mode. Alternatively, we can pass integer value 0 for this flag. \n",
    "\n",
    "\n",
    "cv2.IMREAD_UNCHANGED: It specifies to load an image as such including alpha channel. Alternatively, we can pass integer value -1 for this flag. (Generally an alpha channel is used to define areas of a photo, such as to define transparency or to preserve a saved selection.)"
   ]
  },
  {
   "cell_type": "code",
   "execution_count": 4,
   "id": "81701e40",
   "metadata": {},
   "outputs": [
    {
     "data": {
      "text/plain": [
       "-1"
      ]
     },
     "execution_count": 4,
     "metadata": {},
     "output_type": "execute_result"
    }
   ],
   "source": [
    "cv2.imshow('Grayscale', gray_image)\n",
    "cv2.waitKey(0)"
   ]
  },
  {
   "cell_type": "code",
   "execution_count": 5,
   "id": "a80aeb08",
   "metadata": {},
   "outputs": [],
   "source": [
    "cv2.destroyAllWindows()"
   ]
  },
  {
   "cell_type": "code",
   "execution_count": 6,
   "id": "567df33d",
   "metadata": {},
   "outputs": [],
   "source": [
    "img = cv2.imread('C:/Users/SHREYASH S BHATKAR/Desktop/CV/itac.jpg', 0)"
   ]
  },
  {
   "cell_type": "markdown",
   "id": "4da386a7",
   "metadata": {},
   "source": [
    "for reading image at a specefic location/address"
   ]
  },
  {
   "cell_type": "code",
   "execution_count": 7,
   "id": "896eb4ed",
   "metadata": {},
   "outputs": [],
   "source": [
    "cv2.imshow('Grayscale Image', img)"
   ]
  },
  {
   "cell_type": "code",
   "execution_count": 8,
   "id": "60bd88a2",
   "metadata": {},
   "outputs": [
    {
     "data": {
      "text/plain": [
       "-1"
      ]
     },
     "execution_count": 8,
     "metadata": {},
     "output_type": "execute_result"
    }
   ],
   "source": [
    "cv2.waitKey(0)"
   ]
  },
  {
   "cell_type": "markdown",
   "id": "fc5342c2",
   "metadata": {},
   "source": [
    "Window shown waits for any key pressing event"
   ]
  },
  {
   "cell_type": "code",
   "execution_count": 9,
   "id": "fb53b864",
   "metadata": {},
   "outputs": [],
   "source": [
    "cv2.destroyAllWindows()"
   ]
  },
  {
   "cell_type": "code",
   "execution_count": null,
   "id": "71b71e96",
   "metadata": {},
   "outputs": [],
   "source": []
  }
 ],
 "metadata": {
  "kernelspec": {
   "display_name": "Python 3 (ipykernel)",
   "language": "python",
   "name": "python3"
  },
  "language_info": {
   "codemirror_mode": {
    "name": "ipython",
    "version": 3
   },
   "file_extension": ".py",
   "mimetype": "text/x-python",
   "name": "python",
   "nbconvert_exporter": "python",
   "pygments_lexer": "ipython3",
   "version": "3.8.5"
  }
 },
 "nbformat": 4,
 "nbformat_minor": 5
}
