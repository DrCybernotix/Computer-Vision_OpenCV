{
 "cells": [
  {
   "cell_type": "markdown",
   "id": "dafdfabc",
   "metadata": {},
   "source": [
    "# Program to write an image to adirectory location with specific format."
   ]
  },
  {
   "cell_type": "code",
   "execution_count": 1,
   "id": "10c964b0",
   "metadata": {},
   "outputs": [],
   "source": [
    "import cv2"
   ]
  },
  {
   "cell_type": "code",
   "execution_count": 2,
   "id": "3450b3fd",
   "metadata": {},
   "outputs": [],
   "source": [
    "import os"
   ]
  },
  {
   "cell_type": "markdown",
   "id": "4d4d1152",
   "metadata": {},
   "source": [
    "imporitng the operating system library."
   ]
  },
  {
   "cell_type": "markdown",
   "id": "975d0720",
   "metadata": {},
   "source": [
    "setting variables for image path and image directory"
   ]
  },
  {
   "cell_type": "code",
   "execution_count": 3,
   "id": "e31fd1a9",
   "metadata": {},
   "outputs": [],
   "source": [
    "\n",
    "image_path = r\"C:/Users/SHREYASH S BHATKAR/Desktop/ttty.png\"\n",
    "\n",
    "\n",
    "directory = r\"C:/Users/SHREYASH S BHATKAR/Desktop/CV/\"\n"
   ]
  },
  {
   "cell_type": "markdown",
   "id": "1c260ca0",
   "metadata": {},
   "source": [
    "setting variables for image path and directory, we can even do direct substitution instead of creating variables."
   ]
  },
  {
   "cell_type": "code",
   "execution_count": 4,
   "id": "23bb7d0d",
   "metadata": {},
   "outputs": [],
   "source": [
    "\n",
    "img = cv2.imread(image_path)\n"
   ]
  },
  {
   "cell_type": "markdown",
   "id": "11d9f896",
   "metadata": {},
   "source": [
    "Using cv2.imread() method\n",
    "to read the image"
   ]
  },
  {
   "cell_type": "code",
   "execution_count": 5,
   "id": "ed8a9ddf",
   "metadata": {
    "scrolled": true
   },
   "outputs": [],
   "source": [
    "os.chdir(directory)"
   ]
  },
  {
   "cell_type": "markdown",
   "id": "abecc46a",
   "metadata": {},
   "source": [
    "Change the current directory to specified directory"
   ]
  },
  {
   "cell_type": "code",
   "execution_count": 9,
   "id": "cd128538",
   "metadata": {},
   "outputs": [
    {
     "name": "stdout",
     "output_type": "stream",
     "text": [
      "Before saving image:\n",
      "['.ipynb_checkpoints', 'ChangeCLR.ipynb', 'itac.jpg', 'LAB2CV.ipynb', 'mamba.mp4', 'nasa.jpg', 'PlayVid.ipynb', 'READ FRAME BY FRAME.ipynb', 'ReadImage.ipynb', 'TTTY.jpg', 'WriteImg.ipynb', 'WriteVideo.ipynb', 'xyz.jpg']\n"
     ]
    }
   ],
   "source": [
    "print(\"Before saving image:\")\n",
    "print(os.listdir(directory))"
   ]
  },
  {
   "cell_type": "markdown",
   "id": "4a38e845",
   "metadata": {},
   "source": [
    "List files and directories in \"C:/Users/SHREYASH S BHATKAR/Desktop\""
   ]
  },
  {
   "cell_type": "code",
   "execution_count": 7,
   "id": "9dbfa9d1",
   "metadata": {},
   "outputs": [],
   "source": [
    "# Filename\n",
    "filename = 'xyz.jpg'"
   ]
  },
  {
   "cell_type": "markdown",
   "id": "aeb5ac97",
   "metadata": {},
   "source": [
    "we can use any desired extension whilst saving our image, as long as we use image extension, the file will be opened as an image. "
   ]
  },
  {
   "cell_type": "code",
   "execution_count": 8,
   "id": "1609babe",
   "metadata": {},
   "outputs": [
    {
     "data": {
      "text/plain": [
       "True"
      ]
     },
     "execution_count": 8,
     "metadata": {},
     "output_type": "execute_result"
    }
   ],
   "source": [
    "cv2.imwrite(filename, img)"
   ]
  },
  {
   "cell_type": "code",
   "execution_count": null,
   "id": "07a6745a",
   "metadata": {},
   "outputs": [],
   "source": []
  }
 ],
 "metadata": {
  "kernelspec": {
   "display_name": "Python 3 (ipykernel)",
   "language": "python",
   "name": "python3"
  },
  "language_info": {
   "codemirror_mode": {
    "name": "ipython",
    "version": 3
   },
   "file_extension": ".py",
   "mimetype": "text/x-python",
   "name": "python",
   "nbconvert_exporter": "python",
   "pygments_lexer": "ipython3",
   "version": "3.8.5"
  }
 },
 "nbformat": 4,
 "nbformat_minor": 5
}
