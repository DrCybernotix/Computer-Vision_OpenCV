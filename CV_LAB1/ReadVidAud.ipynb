{
 "cells": [
  {
   "cell_type": "markdown",
   "id": "9c333b3e",
   "metadata": {},
   "source": [
    "# Program to read video with audio."
   ]
  },
  {
   "cell_type": "code",
   "execution_count": 20,
   "id": "0fb027c9",
   "metadata": {},
   "outputs": [],
   "source": [
    "import cv2 "
   ]
  },
  {
   "cell_type": "code",
   "execution_count": 21,
   "id": "92185658",
   "metadata": {},
   "outputs": [],
   "source": [
    "import numpy as np "
   ]
  },
  {
   "cell_type": "code",
   "execution_count": 22,
   "id": "9269c61d",
   "metadata": {},
   "outputs": [],
   "source": [
    "from ffpyplayer.player import MediaPlayer"
   ]
  },
  {
   "cell_type": "code",
   "execution_count": 23,
   "id": "98906996",
   "metadata": {},
   "outputs": [],
   "source": [
    "import time"
   ]
  },
  {
   "cell_type": "code",
   "execution_count": 24,
   "id": "ea2887ca",
   "metadata": {},
   "outputs": [],
   "source": [
    "cap=cv2.VideoCapture('C:/Users/SHREYASH S BHATKAR/Desktop/CV/mamba.mp4')"
   ]
  },
  {
   "cell_type": "markdown",
   "id": "7041d492",
   "metadata": {},
   "source": [
    "Creating a variable for VideoCapture object and read from input file"
   ]
  },
  {
   "cell_type": "code",
   "execution_count": 25,
   "id": "1ed70bcf",
   "metadata": {},
   "outputs": [],
   "source": [
    "#cap.set(cv2.CAP_PROP_FRAME_WIDTH,720)\n",
    "#cap.set(cv2.CAP_PROP_FRAME_HEIGHT,480)"
   ]
  },
  {
   "cell_type": "markdown",
   "id": "ab99e068",
   "metadata": {},
   "source": [
    "we can set the dimensions of our video which is tobe captured"
   ]
  },
  {
   "cell_type": "code",
   "execution_count": 26,
   "id": "3ca2c715",
   "metadata": {},
   "outputs": [],
   "source": [
    "player = MediaPlayer('C:/Users/SHREYASH S BHATKAR/Desktop/CV/mamba.mp4')"
   ]
  },
  {
   "cell_type": "markdown",
   "id": "bb07c962",
   "metadata": {},
   "source": [
    "creating a player variable for MediaPlayer object"
   ]
  },
  {
   "cell_type": "code",
   "execution_count": 27,
   "id": "1625ea79",
   "metadata": {},
   "outputs": [],
   "source": [
    "while(cap.isOpened()):\n",
    "    \n",
    "    ret, frame = cap.read()\n",
    "    if ret == True:\n",
    "        \n",
    "        audio_frame,val=player.get_frame()\n",
    "        \n",
    "        cv2.imshow('Frame',frame)\n",
    "        if cv2.waitKey(1000) & 0xFF == ord('q'):\n",
    "            break\n",
    "            player=0\n",
    "    else:\n",
    "        player=0\n",
    "        break"
   ]
  },
  {
   "cell_type": "code",
   "execution_count": 28,
   "id": "e156ba48",
   "metadata": {},
   "outputs": [],
   "source": [
    "cap.release()\n",
    "cv2.destroyAllWindows()"
   ]
  },
  {
   "cell_type": "markdown",
   "id": "106033ef",
   "metadata": {},
   "source": [
    "releases the webcam or loaded file, then closes all of the imshow() windows."
   ]
  }
 ],
 "metadata": {
  "kernelspec": {
   "display_name": "Python 3 (ipykernel)",
   "language": "python",
   "name": "python3"
  },
  "language_info": {
   "codemirror_mode": {
    "name": "ipython",
    "version": 3
   },
   "file_extension": ".py",
   "mimetype": "text/x-python",
   "name": "python",
   "nbconvert_exporter": "python",
   "pygments_lexer": "ipython3",
   "version": "3.8.5"
  }
 },
 "nbformat": 4,
 "nbformat_minor": 5
}
