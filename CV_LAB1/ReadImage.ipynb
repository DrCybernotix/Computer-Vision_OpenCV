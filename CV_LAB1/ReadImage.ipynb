{
 "cells": [
  {
   "cell_type": "markdown",
   "id": "6e1ac223",
   "metadata": {},
   "source": [
    "# cv LAB 1\n",
    "\n",
    "# Program to read image from a specific location."
   ]
  },
  {
   "cell_type": "markdown",
   "id": "62614528",
   "metadata": {},
   "source": [
    "> Shreyash Bhatkar \n",
    "\n",
    "> ET-A Batch : 2\n",
    "\n",
    "> Roll No. : 48"
   ]
  },
  {
   "cell_type": "code",
   "execution_count": 5,
   "id": "1d8ba51a",
   "metadata": {},
   "outputs": [],
   "source": [
    "import cv2"
   ]
  },
  {
   "cell_type": "markdown",
   "id": "c4fbe290",
   "metadata": {},
   "source": [
    "imported CV library"
   ]
  },
  {
   "cell_type": "code",
   "execution_count": 6,
   "id": "f28d9818",
   "metadata": {},
   "outputs": [],
   "source": [
    "img = cv2.imread(\"C:/Users/SHREYASH S BHATKAR/Desktop/CV/itac.jpg\")"
   ]
  },
  {
   "cell_type": "markdown",
   "id": "c947449c",
   "metadata": {},
   "source": [
    "for reading image at a specefic location/address"
   ]
  },
  {
   "cell_type": "code",
   "execution_count": 8,
   "id": "e99f23b2",
   "metadata": {},
   "outputs": [
    {
     "name": "stdout",
     "output_type": "stream",
     "text": [
      "(1920, 909, 3)\n"
     ]
    }
   ],
   "source": [
    "print(img.shape)"
   ]
  },
  {
   "cell_type": "code",
   "execution_count": 9,
   "id": "dc707313",
   "metadata": {},
   "outputs": [
    {
     "name": "stdout",
     "output_type": "stream",
     "text": [
      "Height of image :  1920 pixels\n"
     ]
    }
   ],
   "source": [
    "print('Height of image : ', int(img . shape[0]),  'pixels' )"
   ]
  },
  {
   "cell_type": "markdown",
   "id": "d95453fe",
   "metadata": {},
   "source": [
    "prints the height"
   ]
  },
  {
   "cell_type": "code",
   "execution_count": 10,
   "id": "343c2d0c",
   "metadata": {},
   "outputs": [
    {
     "name": "stdout",
     "output_type": "stream",
     "text": [
      "width of image : 909 pixels\n"
     ]
    }
   ],
   "source": [
    "print('width of image :', int(img.shape[1]), 'pixels')"
   ]
  },
  {
   "cell_type": "markdown",
   "id": "d24f7c70",
   "metadata": {},
   "source": [
    "prints the width(in pixels)."
   ]
  },
  {
   "cell_type": "code",
   "execution_count": 11,
   "id": "ad884ca5",
   "metadata": {},
   "outputs": [
    {
     "name": "stdout",
     "output_type": "stream",
     "text": [
      "number of channels : 3 pixels\n"
     ]
    }
   ],
   "source": [
    "print('number of channels :', int(img.shape[2]), 'pixels')"
   ]
  },
  {
   "cell_type": "markdown",
   "id": "a8b41961",
   "metadata": {},
   "source": [
    "Images have one to three channels in general, some have 4."
   ]
  },
  {
   "cell_type": "markdown",
   "id": "81b64c53",
   "metadata": {},
   "source": [
    "Dimensions and the color characteristics are printed above."
   ]
  },
  {
   "cell_type": "code",
   "execution_count": 12,
   "id": "82fec004",
   "metadata": {},
   "outputs": [],
   "source": [
    "cv2.imshow(\"somLabel\",img)"
   ]
  },
  {
   "cell_type": "markdown",
   "id": "5d578c2b",
   "metadata": {},
   "source": [
    "for reading image at a specefic location/address"
   ]
  },
  {
   "cell_type": "code",
   "execution_count": 13,
   "id": "5f240cb8",
   "metadata": {},
   "outputs": [
    {
     "data": {
      "text/plain": [
       "-1"
      ]
     },
     "execution_count": 13,
     "metadata": {},
     "output_type": "execute_result"
    }
   ],
   "source": [
    "cv2.waitKey(10000) #10 seconds"
   ]
  },
  {
   "cell_type": "markdown",
   "id": "9e5d6ce9",
   "metadata": {},
   "source": [
    "about how long the image will stay"
   ]
  },
  {
   "cell_type": "code",
   "execution_count": 14,
   "id": "55c1555a",
   "metadata": {},
   "outputs": [],
   "source": [
    "cv2.destroyAllWindows()"
   ]
  },
  {
   "cell_type": "code",
   "execution_count": null,
   "id": "eace20ed",
   "metadata": {},
   "outputs": [],
   "source": []
  }
 ],
 "metadata": {
  "kernelspec": {
   "display_name": "Python 3 (ipykernel)",
   "language": "python",
   "name": "python3"
  },
  "language_info": {
   "codemirror_mode": {
    "name": "ipython",
    "version": 3
   },
   "file_extension": ".py",
   "mimetype": "text/x-python",
   "name": "python",
   "nbconvert_exporter": "python",
   "pygments_lexer": "ipython3",
   "version": "3.8.5"
  }
 },
 "nbformat": 4,
 "nbformat_minor": 5
}
