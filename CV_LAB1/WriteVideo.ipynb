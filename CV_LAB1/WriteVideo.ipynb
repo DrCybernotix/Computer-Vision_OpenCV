{
 "cells": [
  {
   "cell_type": "markdown",
   "id": "32c5c9c0",
   "metadata": {},
   "source": [
    "# Program to write video to specified directory location."
   ]
  },
  {
   "cell_type": "code",
   "execution_count": 1,
   "id": "6c0cac81",
   "metadata": {},
   "outputs": [],
   "source": [
    "import cv2"
   ]
  },
  {
   "cell_type": "code",
   "execution_count": 2,
   "id": "db3eac74",
   "metadata": {},
   "outputs": [],
   "source": [
    "video = cv2.VideoCapture(\"C:/Users/SHREYASH S BHATKAR/Desktop/CV/mamba.mp4\")"
   ]
  },
  {
   "cell_type": "markdown",
   "id": "11360009",
   "metadata": {},
   "source": [
    "\n",
    "use flag 0 for webcam\n"
   ]
  },
  {
   "cell_type": "code",
   "execution_count": 3,
   "id": "123b1c33",
   "metadata": {},
   "outputs": [],
   "source": [
    "if (video.isOpened() == False):\n",
    "    print(\"Error reading video file\")"
   ]
  },
  {
   "cell_type": "markdown",
   "id": "e2e3e5fe",
   "metadata": {},
   "source": [
    "\n",
    "We need to check if vid is opened or captured previously or not\n"
   ]
  },
  {
   "cell_type": "code",
   "execution_count": 4,
   "id": "a7a44812",
   "metadata": {},
   "outputs": [],
   "source": [
    "frame_width = int(video.get(3))\n",
    "frame_height = int(video.get(4))\n",
    "\n",
    "size = (frame_width, frame_height)\n"
   ]
  },
  {
   "cell_type": "markdown",
   "id": "ffc15d9d",
   "metadata": {},
   "source": [
    "\n",
    "We need to set resolutions. (converted from float to integer).\n"
   ]
  },
  {
   "cell_type": "markdown",
   "id": "eefa197a",
   "metadata": {},
   "source": [
    "\n",
    "Below VideoWriter object will create a frame of above defined The output is stored in 'nameOvid.avi' file.\n",
    "\n"
   ]
  },
  {
   "cell_type": "code",
   "execution_count": 5,
   "id": "a22ef30d",
   "metadata": {},
   "outputs": [],
   "source": [
    "result = cv2.VideoWriter('random.avi',\n",
    "                         cv2.VideoWriter_fourcc(*'MJPG'), \n",
    "                         10, size)\n"
   ]
  },
  {
   "cell_type": "markdown",
   "id": "a0daa46f",
   "metadata": {},
   "source": [
    " mjpg is a video compression format  #4 character code identifier for avideo"
   ]
  },
  {
   "cell_type": "code",
   "execution_count": 6,
   "id": "38ceee1c",
   "metadata": {},
   "outputs": [],
   "source": [
    "while (True):\n",
    "    ret, frame = video.read()\n",
    "\n",
    "    if ret == True:\n",
    "\n",
    "        # Write the frame into the\n",
    "        # file 'filename.avi'\n",
    "        \n",
    "        result.write(frame)\n",
    "\n",
    "        # Display the frame\n",
    "        # saved in the file\n",
    "        \n",
    "        cv2.imshow('Frame', frame)\n",
    "\n",
    "        # Press S on keyboard\n",
    "        # to stop the process\n",
    "        \n",
    "        if cv2.waitKey(1) & 0xFF == ord('s'):\n",
    "            break\n",
    "\n",
    "    # Break the loop\n",
    "    \n",
    "    else:\n",
    "        break"
   ]
  },
  {
   "cell_type": "markdown",
   "id": "0b6d8df6",
   "metadata": {},
   "source": []
  },
  {
   "cell_type": "code",
   "execution_count": 7,
   "id": "ddcf5cb9",
   "metadata": {},
   "outputs": [
    {
     "name": "stdout",
     "output_type": "stream",
     "text": [
      "The video was successfully saved\n"
     ]
    }
   ],
   "source": [
    "video.release()\n",
    "result.release()\n",
    "\n",
    "\n",
    "cv2.destroyAllWindows()\n",
    "\n",
    "print(\"The video was successfully saved\")"
   ]
  },
  {
   "cell_type": "code",
   "execution_count": null,
   "id": "4144201f",
   "metadata": {},
   "outputs": [],
   "source": []
  }
 ],
 "metadata": {
  "kernelspec": {
   "display_name": "Python 3 (ipykernel)",
   "language": "python",
   "name": "python3"
  },
  "language_info": {
   "codemirror_mode": {
    "name": "ipython",
    "version": 3
   },
   "file_extension": ".py",
   "mimetype": "text/x-python",
   "name": "python",
   "nbconvert_exporter": "python",
   "pygments_lexer": "ipython3",
   "version": "3.8.5"
  }
 },
 "nbformat": 4,
 "nbformat_minor": 5
}
