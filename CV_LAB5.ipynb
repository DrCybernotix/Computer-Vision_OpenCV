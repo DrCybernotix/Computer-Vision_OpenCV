{
 "cells": [
  {
   "cell_type": "markdown",
   "id": "cd7d8705",
   "metadata": {},
   "source": [
    "# Menu driven program to perform intensity transformation on images"
   ]
  },
  {
   "cell_type": "markdown",
   "id": "b0e89586",
   "metadata": {},
   "source": [
    "    Name : Shreyash Bhatkar\n",
    "    Roll no.48\n",
    "    ETA-Batch2 "
   ]
  },
  {
   "cell_type": "markdown",
   "id": "d1f1e147",
   "metadata": {},
   "source": [
    "### Import the necessary packages"
   ]
  },
  {
   "cell_type": "code",
   "execution_count": 1,
   "id": "ae6c5248",
   "metadata": {},
   "outputs": [],
   "source": [
    "import numpy as np\n",
    "import cv2"
   ]
  },
  {
   "cell_type": "markdown",
   "id": "d4571521",
   "metadata": {},
   "source": [
    "### Input image"
   ]
  },
  {
   "cell_type": "code",
   "execution_count": 2,
   "id": "fcef89c1",
   "metadata": {},
   "outputs": [],
   "source": [
    "img = cv2.imread('INT.jpg',0)\n",
    "cv2.imshow('original',img)\n",
    "cv2.waitKey(0)\n",
    "cv2.destroyAllWindows()"
   ]
  },
  {
   "cell_type": "markdown",
   "id": "21437f4d",
   "metadata": {},
   "source": [
    "## <1>Intensity Level Slicing With Background"
   ]
  },
  {
   "cell_type": "code",
   "execution_count": 3,
   "id": "5d42e074",
   "metadata": {},
   "outputs": [],
   "source": [
    "def W():\n",
    "    row, column = img.shape[:2]\n",
    "\n",
    "    img1 = np.zeros((row,column),dtype = 'uint8')\n",
    "    min_range = int(input(\"Enter minimum range : \"))\n",
    "    max_range = int(input(\"Enter maximum range : \"))\n",
    "    for i in range(row):\n",
    "        for j in range(column):\n",
    "            if img[i,j]>=min_range and img[i,j]<=max_range:\n",
    "                img1[i,j] = 255 \n",
    "            else:\n",
    "                img1[i,j] \n",
    "\n",
    "            return img1 \n",
    "    "
   ]
  },
  {
   "cell_type": "markdown",
   "id": "14ea9b3e",
   "metadata": {},
   "source": [
    ">np.int16 corressponds to unit8, unsigned 8-bit integer that can represent values from 0 to 255 (non negative)\n",
    "\n",
    ">If the image is 8-bit unsigned, it is displayed as is.\n",
    "\n",
    ">If the image is 16-bit unsigned or 32-bit integer, the pixels are divided by 256. That is, the value range [0,255*256] is mapped to [0,255]."
   ]
  },
  {
   "cell_type": "markdown",
   "id": "4631233c",
   "metadata": {},
   "source": [
    "## <2>Intensity Level Slicing Without Background"
   ]
  },
  {
   "cell_type": "code",
   "execution_count": null,
   "id": "3d4e94fc",
   "metadata": {},
   "outputs": [],
   "source": [
    "def WO():\n",
    "    row, column = img.shape[:2]\n",
    "\n",
    "    img1 = np.zeros((row,column),dtype = 'uint8')\n",
    "    min_range = int(input(\"Enter minimum range : \"))\n",
    "    max_range = int(input(\"Enter maximum range : \"))\n",
    "    for i in range(row):\n",
    "        for j in range(column):\n",
    "            if img[i,j]>=min_range and img[i,j]<=max_range:\n",
    "                img1[i,j] = 255\n",
    "            else:\n",
    "                img1[i,j] = 0\n",
    "    cv2.imshow('Intensity transf', img1)\n",
    "    cv2.waitKey(0)\n",
    "    return img1 "
   ]
  },
  {
   "cell_type": "markdown",
   "id": "89d35bf3",
   "metadata": {},
   "source": [
    "## <3> Log Transform"
   ]
  },
  {
   "cell_type": "code",
   "execution_count": null,
   "id": "0ce40b1c",
   "metadata": {},
   "outputs": [],
   "source": [
    "def logt():\n",
    "\n",
    "    # Applying log transform.\n",
    "    \n",
    "    c = 255/(np.log(1 + np.max(img)))\n",
    "    log_transformed = c * np.log(1 + img)\n",
    "\n",
    "    # Specify the data type.\n",
    "    \n",
    "    log_transformed = np.array(log_transformed, dtype = np.uint8)\n",
    "    \n",
    "    return log_transformed"
   ]
  },
  {
   "cell_type": "markdown",
   "id": "9e62a6ea",
   "metadata": {},
   "source": [
    "## <4>  Power Law"
   ]
  },
  {
   "cell_type": "code",
   "execution_count": 4,
   "id": "69ae5175",
   "metadata": {},
   "outputs": [],
   "source": [
    "def pow():\n",
    "    \n",
    "    gamma=float(input('input gamma value'))\n",
    "    \n",
    "    gamma_corrected = np.array(255*(img / 255) ** gamma, dtype = 'uint8')\n",
    "    \n",
    "    return gamma_corrected\n",
    "  "
   ]
  },
  {
   "cell_type": "markdown",
   "id": "63138da2",
   "metadata": {},
   "source": [
    "### This is the default case when user puts unbounded input this gets executed"
   ]
  },
  {
   "cell_type": "code",
   "execution_count": 5,
   "id": "3a135fda",
   "metadata": {},
   "outputs": [],
   "source": [
    "def default():\n",
    "    return \"Incorrect Input\""
   ]
  },
  {
   "cell_type": "markdown",
   "id": "7bf52a33",
   "metadata": {},
   "source": [
    "### Driver program"
   ]
  },
  {
   "cell_type": "code",
   "execution_count": 6,
   "id": "68a8c7af",
   "metadata": {},
   "outputs": [
    {
     "name": "stdout",
     "output_type": "stream",
     "text": [
      "\tMenu:\n",
      "           1. Intensity Level Slicing Without Background \n",
      "           2. Intensity Level Slicing With Background \n",
      "           3. Log Transform \n",
      "           4. Power Law \n",
      "           0. Exit\n",
      "\n",
      "Enter your choice\n",
      "None1\n"
     ]
    },
    {
     "ename": "NameError",
     "evalue": "name 'WO' is not defined",
     "output_type": "error",
     "traceback": [
      "\u001b[1;31m---------------------------------------------------------------------------\u001b[0m",
      "\u001b[1;31mNameError\u001b[0m                                 Traceback (most recent call last)",
      "\u001b[1;32mC:\\Users\\SHREYA~1\\AppData\\Local\\Temp/ipykernel_1380/821174691.py\u001b[0m in \u001b[0;36m<module>\u001b[1;34m\u001b[0m\n\u001b[0;32m      8\u001b[0m     \u001b[0mc\u001b[0m \u001b[1;33m=\u001b[0m \u001b[0mint\u001b[0m\u001b[1;33m(\u001b[0m\u001b[0minput\u001b[0m\u001b[1;33m(\u001b[0m\u001b[0mprint\u001b[0m\u001b[1;33m(\u001b[0m\u001b[1;34m\"Enter your choice\"\u001b[0m\u001b[1;33m)\u001b[0m\u001b[1;33m)\u001b[0m\u001b[1;33m)\u001b[0m\u001b[1;33m\u001b[0m\u001b[1;33m\u001b[0m\u001b[0m\n\u001b[0;32m      9\u001b[0m     \u001b[1;32mif\u001b[0m \u001b[0mc\u001b[0m \u001b[1;33m==\u001b[0m \u001b[1;36m1\u001b[0m\u001b[1;33m:\u001b[0m\u001b[1;33m\u001b[0m\u001b[1;33m\u001b[0m\u001b[0m\n\u001b[1;32m---> 10\u001b[1;33m         \u001b[0mfinal_img\u001b[0m\u001b[1;33m=\u001b[0m\u001b[0mWO\u001b[0m\u001b[1;33m(\u001b[0m\u001b[1;33m)\u001b[0m\u001b[1;33m\u001b[0m\u001b[1;33m\u001b[0m\u001b[0m\n\u001b[0m\u001b[0;32m     11\u001b[0m \u001b[1;33m\u001b[0m\u001b[0m\n\u001b[0;32m     12\u001b[0m         \u001b[0mcv2\u001b[0m\u001b[1;33m.\u001b[0m\u001b[0mimshow\u001b[0m\u001b[1;33m(\u001b[0m\u001b[1;34m'Final Image'\u001b[0m\u001b[1;33m,\u001b[0m\u001b[0mfinal_img\u001b[0m\u001b[1;33m)\u001b[0m\u001b[1;33m\u001b[0m\u001b[1;33m\u001b[0m\u001b[0m\n",
      "\u001b[1;31mNameError\u001b[0m: name 'WO' is not defined"
     ]
    }
   ],
   "source": [
    "while True:\n",
    "    print(\"\\tMenu:\\n\\\n",
    "           1. Intensity Level Slicing Without Background \\n\\\n",
    "           2. Intensity Level Slicing With Background \\n\\\n",
    "           3. Log Transform \\n\\\n",
    "           4. Power Law \\n\\\n",
    "           0. Exit\\n\")\n",
    "    c = int(input(print(\"Enter your choice\")))\n",
    "    if c == 1:\n",
    "        final_img=WO()\n",
    "       \n",
    "        cv2.imshow('Final Image',final_img)\n",
    "        cv2.waitKey(0)\n",
    "        cv2.destroyAllWindows()\n",
    "    elif c == 2:\n",
    "        final_img=W()\n",
    "       \n",
    "        cv2.imshow('Final Image',final_img)\n",
    "        cv2.waitKey(0)\n",
    "        cv2.destroyAllWindows()\n",
    "    elif c == 3:\n",
    "        final_img=logt()\n",
    "       \n",
    "        cv2.imshow('Final Image',final_img)\n",
    "        cv2.waitKey(0)\n",
    "        cv2.destroyAllWindows()\n",
    "    elif c == 4:\n",
    "        final_img=pow()\n",
    "       \n",
    "        cv2.imshow('Final Image',final_img)\n",
    "        cv2.waitKey(0)\n",
    "        cv2.destroyAllWindows()\n",
    "    elif c == 0:\n",
    "        break\n",
    "    else :\n",
    "        default()\n",
    "        break"
   ]
  },
  {
   "cell_type": "code",
   "execution_count": null,
   "id": "321a2128",
   "metadata": {},
   "outputs": [],
   "source": []
  }
 ],
 "metadata": {
  "kernelspec": {
   "display_name": "Python 3 (ipykernel)",
   "language": "python",
   "name": "python3"
  },
  "language_info": {
   "codemirror_mode": {
    "name": "ipython",
    "version": 3
   },
   "file_extension": ".py",
   "mimetype": "text/x-python",
   "name": "python",
   "nbconvert_exporter": "python",
   "pygments_lexer": "ipython3",
   "version": "3.8.5"
  }
 },
 "nbformat": 4,
 "nbformat_minor": 5
}
