{
 "cells": [
  {
   "cell_type": "markdown",
   "id": "47de2085",
   "metadata": {},
   "source": [
    "# Menu driven program to perform Bitwise logical operations on images"
   ]
  },
  {
   "cell_type": "markdown",
   "id": "c7607b04",
   "metadata": {},
   "source": [
    "    Name : Shreyash Bhatkar\n",
    "    Roll no.48\n",
    "    ETA-Batch2 "
   ]
  },
  {
   "cell_type": "markdown",
   "id": "cb92d687",
   "metadata": {},
   "source": [
    "### Import the necessary packages"
   ]
  },
  {
   "cell_type": "code",
   "execution_count": null,
   "id": "5266afd6",
   "metadata": {},
   "outputs": [],
   "source": [
    "import numpy as np\n",
    "import cv2"
   ]
  },
  {
   "cell_type": "markdown",
   "id": "fb8ad9b0",
   "metadata": {},
   "source": [
    "### Draw a rectangle image."
   ]
  },
  {
   "cell_type": "code",
   "execution_count": null,
   "id": "32a5f426",
   "metadata": {},
   "outputs": [],
   "source": [
    "rectangle = np.zeros((300, 300), dtype=\"uint8\")\n",
    "cv2.rectangle(rectangle, (25, 25), (275, 275), 255, -12)\n",
    "cv2.imshow(\"Rectangle\", rectangle)\n",
    "cv2.waitKey(0)\n",
    "img = cv2.imread('sample.jpg')"
   ]
  },
  {
   "cell_type": "markdown",
   "id": "72e9097b",
   "metadata": {},
   "source": [
    "### Numpy. zeros() function returns a new array of given shape and type, with zeros.\n",
    "### Syntax: numpy.zeros(shape, dtype = None, order = 'C')\n",
    "### np.int32 corressponds to unit8, unsigned 8-bit integer that can represent values from 0 to 255 (non negative) \n",
    "### rectangle(image, start_point, end_point, color, thickness) \n",
    "### t-fills complete for negative values and alters accordingly with positive values"
   ]
  },
  {
   "cell_type": "code",
   "execution_count": null,
   "id": "cb0ea036",
   "metadata": {},
   "outputs": [],
   "source": [
    "circle = np.zeros((300, 300), dtype = \"uint8\")\n",
    "cv2.circle(circle, (150, 150), 150, 255, -1)\n",
    "cv2.imshow(\"Circle\", circle)\n",
    "cv2.waitKey(0)\n",
    "cv2.destroyAllWindows()"
   ]
  },
  {
   "cell_type": "code",
   "execution_count": null,
   "id": "0c8ccaf0",
   "metadata": {},
   "outputs": [],
   "source": [
    "\n",
    "bitwiseXor = cv2.bitwise_xor(rectangle, circle)\n",
    "cv2.imshow(\"bitwiseXor\", bitwiseXor)\n",
    "cv2.waitKey(0)\n",
    "cv2.destroyAllWindows()\n",
    "    "
   ]
  },
  {
   "cell_type": "code",
   "execution_count": null,
   "id": "749b7977",
   "metadata": {},
   "outputs": [],
   "source": [
    "bitwiseXor.shape"
   ]
  },
  {
   "cell_type": "code",
   "execution_count": null,
   "id": "c2c38b67",
   "metadata": {},
   "outputs": [],
   "source": [
    "bitwiseXor"
   ]
  },
  {
   "cell_type": "code",
   "execution_count": null,
   "id": "9ff0f617",
   "metadata": {},
   "outputs": [],
   "source": [
    "npbitwiseXor = np.logical_xor(rectangle, circle)\n",
    "cv2.imshow(\"npbitwiseXor\", npbitwiseXor)\n",
    "cv2.waitKey(0)\n",
    "cv2.destroyAllWindows()"
   ]
  },
  {
   "cell_type": "code",
   "execution_count": null,
   "id": "c02c3270",
   "metadata": {},
   "outputs": [],
   "source": [
    "npbitwiseXor.shape"
   ]
  },
  {
   "cell_type": "code",
   "execution_count": null,
   "id": "49510214",
   "metadata": {},
   "outputs": [],
   "source": [
    "npbitwiseXor"
   ]
  },
  {
   "cell_type": "code",
   "execution_count": null,
   "id": "10c9b542",
   "metadata": {},
   "outputs": [],
   "source": [
    "#Boolean result of the logical XOR operation applied to the elements of i1 and i2;"
   ]
  },
  {
   "cell_type": "code",
   "execution_count": null,
   "id": "505f0629",
   "metadata": {},
   "outputs": [],
   "source": [
    "bitwiseNot = cv2.bitwise_not(rectangle)\n",
    "cv2.imshow(\"bitwiseNot\", bitwiseNot)\n",
    "cv2.waitKey(0)\n",
    "cv2.destroyAllWindows()"
   ]
  },
  {
   "cell_type": "code",
   "execution_count": null,
   "id": "2557e17f",
   "metadata": {},
   "outputs": [],
   "source": [
    "bitwiseNot = cv2.bitwise_not(circle)\n",
    "cv2.imshow(\"bitwiseNot\", bitwiseNot)\n",
    "cv2.waitKey(0)\n",
    "cv2.destroyAllWindows()"
   ]
  },
  {
   "cell_type": "code",
   "execution_count": null,
   "id": "ba2d6ec8",
   "metadata": {},
   "outputs": [],
   "source": [
    "npbitwiseNot = np.logical_not(rectangle)\n",
    "cv2.imshow(\"npbitwiseNot\", npbitwiseNot)\n",
    "cv2.waitKey(0)\n",
    "cv2.destroyAllWindows()"
   ]
  },
  {
   "cell_type": "code",
   "execution_count": null,
   "id": "4e2cceeb",
   "metadata": {},
   "outputs": [],
   "source": [
    "npbitwiseNot.shape"
   ]
  },
  {
   "cell_type": "code",
   "execution_count": null,
   "id": "7d1becf9",
   "metadata": {},
   "outputs": [],
   "source": [
    "npbitwiseNot"
   ]
  },
  {
   "cell_type": "code",
   "execution_count": null,
   "id": "3a89e76f",
   "metadata": {},
   "outputs": [],
   "source": [
    "bitwiseAnd = cv2.bitwise_and(rectangle, circle)\n",
    "cv2.imshow(\"bitwiseAnd\", bitwiseAnd)\n",
    "cv2.waitKey(0)\n",
    "cv2.destroyAllWindows()"
   ]
  },
  {
   "cell_type": "code",
   "execution_count": null,
   "id": "e66fa5db",
   "metadata": {},
   "outputs": [],
   "source": [
    "bitwiseAnd.shape"
   ]
  },
  {
   "cell_type": "code",
   "execution_count": null,
   "id": "1682144c",
   "metadata": {},
   "outputs": [],
   "source": [
    "bitwiseAnd"
   ]
  },
  {
   "cell_type": "code",
   "execution_count": null,
   "id": "f1485d27",
   "metadata": {},
   "outputs": [],
   "source": [
    "npbitwiseAnd = np.logical_and(rectangle, circle)\n",
    "cv2.imshow(\"npbitwiseAnd\", npbitwiseAnd)\n",
    "cv2.waitKey(0)\n",
    "cv2.destroyAllWindows()"
   ]
  },
  {
   "cell_type": "code",
   "execution_count": null,
   "id": "964ff908",
   "metadata": {},
   "outputs": [],
   "source": [
    "npbitwiseAnd.shape"
   ]
  },
  {
   "cell_type": "code",
   "execution_count": null,
   "id": "c466d710",
   "metadata": {},
   "outputs": [],
   "source": [
    "npbitwiseAnd"
   ]
  },
  {
   "cell_type": "markdown",
   "id": "7ca7a05d",
   "metadata": {},
   "source": [
    "## <1> Bitwise AND"
   ]
  },
  {
   "cell_type": "code",
   "execution_count": null,
   "id": "efd1e50c",
   "metadata": {},
   "outputs": [],
   "source": [
    "def AND():\n",
    "    bitwiseAnd = cv2.bitwise_and(rectangle, circle)\n",
    "    return bitwiseAnd"
   ]
  },
  {
   "cell_type": "markdown",
   "id": "be3c3210",
   "metadata": {},
   "source": [
    "## <2> Bitwise OR"
   ]
  },
  {
   "cell_type": "code",
   "execution_count": null,
   "id": "90319585",
   "metadata": {},
   "outputs": [],
   "source": [
    "def OR():\n",
    "    bitwiseOr = cv2.bitwise_or(rectangle, circle)\n",
    "    return bitwiseOr"
   ]
  },
  {
   "cell_type": "markdown",
   "id": "1ebf67ec",
   "metadata": {},
   "source": [
    "## <3> Bitwise NOT"
   ]
  },
  {
   "cell_type": "code",
   "execution_count": null,
   "id": "5dd27ea6",
   "metadata": {},
   "outputs": [],
   "source": [
    "def NOT():\n",
    "    bitwiseNot = cv2.bitwise_not(rectangle, circle)\n",
    "    return bitwiseNot"
   ]
  },
  {
   "cell_type": "markdown",
   "id": "da456611",
   "metadata": {},
   "source": [
    "## <4> Bitwise XOR"
   ]
  },
  {
   "cell_type": "code",
   "execution_count": null,
   "id": "e1099bfd",
   "metadata": {},
   "outputs": [],
   "source": [
    "def XOR():\n",
    "    bitwiseXor = cv2.bitwise_xor(rectangle, circle)\n",
    "    return bitwiseXor"
   ]
  },
  {
   "cell_type": "markdown",
   "id": "a345988e",
   "metadata": {},
   "source": [
    "### This is the default case when user puts unbounded input this gets executed"
   ]
  },
  {
   "cell_type": "code",
   "execution_count": null,
   "id": "d8a2075f",
   "metadata": {},
   "outputs": [],
   "source": [
    "def default():\n",
    "    return \"Incorrect Input\""
   ]
  },
  {
   "cell_type": "markdown",
   "id": "44899f59",
   "metadata": {},
   "source": [
    "### Driver program"
   ]
  },
  {
   "cell_type": "code",
   "execution_count": null,
   "id": "5fee62fd",
   "metadata": {},
   "outputs": [],
   "source": [
    "while True:\n",
    "    print(\"\\tMenu:\\n\\\n",
    "           1. AND \\n\\\n",
    "           2. OR \\n\\\n",
    "           3. NOT \\n\\\n",
    "           4. XOR \\n\\\n",
    "           0. Exit\\n\")\n",
    "    c = int(input(print(\"Enter your choice\")))\n",
    "    if c == 1:\n",
    "        final_img=AND()\n",
    "       \n",
    "        cv2.imshow('Final Image',final_img)\n",
    "        cv2.waitKey(0)\n",
    "        cv2.destroyAllWindows()\n",
    "    elif c == 2:\n",
    "        final_img=OR()\n",
    "       \n",
    "        cv2.imshow('Final Image',final_img)\n",
    "        cv2.waitKey(0)\n",
    "        cv2.destroyAllWindows()\n",
    "    elif c == 3:\n",
    "        final_img=NOT()\n",
    "       \n",
    "        cv2.imshow('Final Image',final_img)\n",
    "        cv2.waitKey(0)\n",
    "        cv2.destroyAllWindows()\n",
    "    elif c == 4:\n",
    "        final_img=XOR()\n",
    "       \n",
    "        cv2.imshow('Final Image',final_img)\n",
    "        cv2.waitKey(0)\n",
    "        cv2.destroyAllWindows()\n",
    "    elif c == 0:\n",
    "        break\n",
    "    else :\n",
    "        default()\n",
    "        break"
   ]
  },
  {
   "cell_type": "code",
   "execution_count": null,
   "id": "1f462de8",
   "metadata": {},
   "outputs": [],
   "source": []
  }
 ],
 "metadata": {
  "kernelspec": {
   "display_name": "Python 3 (ipykernel)",
   "language": "python",
   "name": "python3"
  },
  "language_info": {
   "codemirror_mode": {
    "name": "ipython",
    "version": 3
   },
   "file_extension": ".py",
   "mimetype": "text/x-python",
   "name": "python",
   "nbconvert_exporter": "python",
   "pygments_lexer": "ipython3",
   "version": "3.8.5"
  }
 },
 "nbformat": 4,
 "nbformat_minor": 5
}
