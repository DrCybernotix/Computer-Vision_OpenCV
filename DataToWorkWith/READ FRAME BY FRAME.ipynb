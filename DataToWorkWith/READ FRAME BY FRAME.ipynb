{
 "cells": [
  {
   "cell_type": "code",
   "execution_count": 1,
   "id": "eeaa2841",
   "metadata": {},
   "outputs": [],
   "source": [
    "import cv2"
   ]
  },
  {
   "cell_type": "markdown",
   "id": "b3ca517a",
   "metadata": {},
   "source": [
    "imported CV library"
   ]
  },
  {
   "cell_type": "code",
   "execution_count": 2,
   "id": "055181fb",
   "metadata": {},
   "outputs": [],
   "source": [
    "BLA = cv2.VideoCapture(\"C:/Users/SHREYASH S BHATKAR/Desktop/CV/mamba.mp4\")"
   ]
  },
  {
   "cell_type": "markdown",
   "id": "5abf9866",
   "metadata": {},
   "source": [
    "similar with the video, we read it from the specified address"
   ]
  },
  {
   "cell_type": "code",
   "execution_count": null,
   "id": "31aa3525",
   "metadata": {},
   "outputs": [],
   "source": [
    "while True:\n",
    "    reads, vid = BLA.read()\n",
    "    cv2.imshow(\"someLabel\", vid)\n",
    "    cv2.waitKey(100)   #adding delay while READING"
   ]
  },
  {
   "cell_type": "code",
   "execution_count": null,
   "id": "4603090d",
   "metadata": {},
   "outputs": [],
   "source": [
    "    cv2.destroyWindow(vid)"
   ]
  },
  {
   "cell_type": "markdown",
   "id": "00088855",
   "metadata": {},
   "source": [
    "to destroy the video's window\n",
    "we here are reading the whole video frame by frame and showing it with a label"
   ]
  }
 ],
 "metadata": {
  "kernelspec": {
   "display_name": "Python 3 (ipykernel)",
   "language": "python",
   "name": "python3"
  },
  "language_info": {
   "codemirror_mode": {
    "name": "ipython",
    "version": 3
   },
   "file_extension": ".py",
   "mimetype": "text/x-python",
   "name": "python",
   "nbconvert_exporter": "python",
   "pygments_lexer": "ipython3",
   "version": "3.8.5"
  }
 },
 "nbformat": 4,
 "nbformat_minor": 5
}
