{
 "cells": [
  {
   "cell_type": "markdown",
   "id": "6c326683",
   "metadata": {},
   "source": [
    "   # Menu driven program to perform Arithmetic operations on images"
   ]
  },
  {
   "cell_type": "markdown",
   "id": "d4a75791",
   "metadata": {},
   "source": [
    "    Name : Shreyash Bhatkar\n",
    "    Roll no.48\n",
    "    ETA-Batch2 "
   ]
  },
  {
   "cell_type": "code",
   "execution_count": 1,
   "id": "d5bbed34",
   "metadata": {},
   "outputs": [],
   "source": [
    "import cv2 \n",
    "import numpy as np "
   ]
  },
  {
   "cell_type": "markdown",
   "id": "600ef014",
   "metadata": {},
   "source": [
    "### Performing imports "
   ]
  },
  {
   "cell_type": "code",
   "execution_count": 2,
   "id": "3ff3274e",
   "metadata": {},
   "outputs": [],
   "source": [
    "img1 = cv2.imread('C:/Users/SHREYASH S BHATKAR/Desktop/CV/star.jpg')\n",
    "cv2.imshow('original Image 1',img1)\n",
    "cv2.waitKey(0)\n",
    "cv2.destroyAllWindows()\n",
    "\n",
    "img2 = cv2.imread('C:/Users/SHREYASH S BHATKAR/Desktop/CV/dot.jpg')\n",
    "cv2.imshow('original Image 2',img2)\n",
    "cv2.waitKey(0)\n",
    "cv2.destroyAllWindows()"
   ]
  },
  {
   "cell_type": "markdown",
   "id": "09464e25",
   "metadata": {},
   "source": [
    "### Taking input images and saving them in a variable."
   ]
  },
  {
   "cell_type": "code",
   "execution_count": null,
   "id": "97f8b1b5",
   "metadata": {},
   "outputs": [],
   "source": [
    "def default():\n",
    "    return \"Incorrect Input\""
   ]
  },
  {
   "cell_type": "markdown",
   "id": "4425aac3",
   "metadata": {},
   "source": [
    "### This is the default case when user puts unbounded input this gets executed"
   ]
  },
  {
   "cell_type": "markdown",
   "id": "81389d47",
   "metadata": {},
   "source": [
    "## 1) Addition\n",
    "### We can add two images by using function cv2.add(). This directly adds up image pixels in the two images.\n",
    "### Note: The fourth arguement corresponds to gamma value which is associated with light measurement in image.\n",
    "### we will take weights of each image to be added, as arguments"
   ]
  },
  {
   "cell_type": "code",
   "execution_count": null,
   "id": "73a1a8eb",
   "metadata": {},
   "outputs": [],
   "source": [
    "def add():\n",
    "    wt1 = float(input(\"Enter weight of first image relative to the second:\"))\n",
    "    wt2 = float(input(\"Enter weight of second image relative to the first:\"))\n",
    "    g = float(input(\"Enter gamma value:\"))\n",
    "    weightedSum = cv2.addWeighted(img1, wt1, img2, wt2, g)\n",
    "    return weightedSum\n",
    "\n",
    "#cv2.imshow('Weighted Image', weightedSum)"
   ]
  },
  {
   "cell_type": "code",
   "execution_count": 7,
   "id": "41acedbb",
   "metadata": {},
   "outputs": [
    {
     "data": {
      "text/plain": [
       "(168, 300, 3)"
      ]
     },
     "execution_count": 7,
     "metadata": {},
     "output_type": "execute_result"
    }
   ],
   "source": [
    "weightedSum = cv2.addWeighted(img1, 0.4, img2, 0.8, 3)\n",
    "cv2.imshow('Weighted Image', weightedSum)\n",
    "cv2.waitKey(0)\n",
    "cv2.destroyAllWindows()\n",
    "weightedSum.shape"
   ]
  },
  {
   "cell_type": "code",
   "execution_count": 8,
   "id": "d22a74a4",
   "metadata": {},
   "outputs": [
    {
     "data": {
      "text/plain": [
       "array([[[3, 3, 3],\n",
       "        [3, 3, 3],\n",
       "        [3, 3, 3],\n",
       "        ...,\n",
       "        [3, 3, 3],\n",
       "        [3, 3, 3],\n",
       "        [3, 3, 3]],\n",
       "\n",
       "       [[3, 3, 3],\n",
       "        [3, 3, 3],\n",
       "        [3, 3, 3],\n",
       "        ...,\n",
       "        [3, 3, 3],\n",
       "        [3, 3, 3],\n",
       "        [3, 3, 3]],\n",
       "\n",
       "       [[3, 3, 3],\n",
       "        [3, 3, 3],\n",
       "        [3, 3, 3],\n",
       "        ...,\n",
       "        [3, 3, 3],\n",
       "        [3, 3, 3],\n",
       "        [3, 3, 3]],\n",
       "\n",
       "       ...,\n",
       "\n",
       "       [[3, 3, 3],\n",
       "        [3, 3, 3],\n",
       "        [3, 3, 3],\n",
       "        ...,\n",
       "        [3, 3, 3],\n",
       "        [3, 3, 3],\n",
       "        [3, 3, 3]],\n",
       "\n",
       "       [[3, 3, 3],\n",
       "        [3, 3, 3],\n",
       "        [3, 3, 3],\n",
       "        ...,\n",
       "        [3, 3, 3],\n",
       "        [3, 3, 3],\n",
       "        [3, 3, 3]],\n",
       "\n",
       "       [[3, 3, 3],\n",
       "        [3, 3, 3],\n",
       "        [3, 3, 3],\n",
       "        ...,\n",
       "        [3, 3, 3],\n",
       "        [3, 3, 3],\n",
       "        [3, 3, 3]]], dtype=uint8)"
      ]
     },
     "execution_count": 8,
     "metadata": {},
     "output_type": "execute_result"
    }
   ],
   "source": [
    "weightedSum"
   ]
  },
  {
   "cell_type": "code",
   "execution_count": 3,
   "id": "6edb3adc",
   "metadata": {},
   "outputs": [
    {
     "data": {
      "text/plain": [
       "(168, 300, 3)"
      ]
     },
     "execution_count": 3,
     "metadata": {},
     "output_type": "execute_result"
    }
   ],
   "source": [
    "img1.shape\n"
   ]
  },
  {
   "cell_type": "code",
   "execution_count": 4,
   "id": "5b86fca7",
   "metadata": {},
   "outputs": [
    {
     "data": {
      "text/plain": [
       "array([[[0, 0, 0],\n",
       "        [0, 0, 0],\n",
       "        [0, 0, 0],\n",
       "        ...,\n",
       "        [0, 0, 0],\n",
       "        [0, 0, 0],\n",
       "        [0, 0, 0]],\n",
       "\n",
       "       [[0, 0, 0],\n",
       "        [0, 0, 0],\n",
       "        [0, 0, 0],\n",
       "        ...,\n",
       "        [0, 0, 0],\n",
       "        [0, 0, 0],\n",
       "        [0, 0, 0]],\n",
       "\n",
       "       [[0, 0, 0],\n",
       "        [0, 0, 0],\n",
       "        [0, 0, 0],\n",
       "        ...,\n",
       "        [0, 0, 0],\n",
       "        [0, 0, 0],\n",
       "        [0, 0, 0]],\n",
       "\n",
       "       ...,\n",
       "\n",
       "       [[0, 0, 0],\n",
       "        [0, 0, 0],\n",
       "        [0, 0, 0],\n",
       "        ...,\n",
       "        [0, 0, 0],\n",
       "        [0, 0, 0],\n",
       "        [0, 0, 0]],\n",
       "\n",
       "       [[0, 0, 0],\n",
       "        [0, 0, 0],\n",
       "        [0, 0, 0],\n",
       "        ...,\n",
       "        [0, 0, 0],\n",
       "        [0, 0, 0],\n",
       "        [0, 0, 0]],\n",
       "\n",
       "       [[0, 0, 0],\n",
       "        [0, 0, 0],\n",
       "        [0, 0, 0],\n",
       "        ...,\n",
       "        [0, 0, 0],\n",
       "        [0, 0, 0],\n",
       "        [0, 0, 0]]], dtype=uint8)"
      ]
     },
     "execution_count": 4,
     "metadata": {},
     "output_type": "execute_result"
    }
   ],
   "source": [
    "img1"
   ]
  },
  {
   "cell_type": "code",
   "execution_count": null,
   "id": "a1e57883",
   "metadata": {},
   "outputs": [],
   "source": [
    "img2.shape"
   ]
  },
  {
   "cell_type": "markdown",
   "id": "d0cfcd26",
   "metadata": {},
   "source": [
    "## 2) Subtraction\n",
    "### It doesn't take weighted arguments so we will simply subtract selected iamges"
   ]
  },
  {
   "cell_type": "code",
   "execution_count": null,
   "id": "f3b256d2",
   "metadata": {},
   "outputs": [],
   "source": [
    "def sub():\n",
    "\n",
    "    subt = cv2.subtract(img1, img2)\n",
    "    cv2.imshow('subtracted Image', subt)\n",
    "    \n",
    "    return subt\n"
   ]
  },
  {
   "cell_type": "markdown",
   "id": "240a1886",
   "metadata": {},
   "source": [
    "## 3) Multiplication\n",
    "### It doesn't take weighted arguments so we will simply multiply selected iamges"
   ]
  },
  {
   "cell_type": "code",
   "execution_count": null,
   "id": "3d2c2ce7",
   "metadata": {},
   "outputs": [],
   "source": [
    "def mul():\n",
    "\n",
    "    multi = cv2.multiply(img1, img2)\n",
    "    cv2.imshow('Multiplied Image', multi)\n",
    "     # Applying NumPy scalar multiplication on image\n",
    "     #Mimg = img * 1.5\n",
    "    \n",
    "    return multi"
   ]
  },
  {
   "cell_type": "markdown",
   "id": "4c93d77b",
   "metadata": {},
   "source": [
    "## 4) Division\n",
    "### It doesn't take weighted arguments so we will simply divide selected iamges"
   ]
  },
  {
   "cell_type": "code",
   "execution_count": null,
   "id": "e5289dfd",
   "metadata": {},
   "outputs": [],
   "source": [
    "def div():\n",
    "\n",
    "    divi = cv2.divide(img1, img2)\n",
    "    cv2.imshow('Divided Image', divi)\n",
    "    # Applying NumPy scalar division on image\n",
    "    #Dimg = img / 2\n",
    "    \n",
    "    return divi"
   ]
  },
  {
   "cell_type": "markdown",
   "id": "d9106d13",
   "metadata": {},
   "source": [
    "operation(src1, src2, dst=None, scale=None, dtype=None)\n",
    "\n",
    " src1： An array of images as dividers\n",
    " src2： An array of images as multipliers and divisors , Size and type versus src1 identical\n",
    "\n",
    " dst：  , Output the variable saved by the result , The default value is None, If it is not right None, The output image is saved to dst In the corresponding argument , It has the same size and number of channels as the input image , The depth of the image （ That is, the number of pixels in the image ） from dtype Parameter or input image to determine\n",
    " \n",
    " scale： Optional result image scaling factor , The image computing process is (src1*scale)*src2\n",
    " \n",
    " \n",
    " dtype : The depth of the output image array , That is, the number of bits of a single pixel value of an image （ Such as RGB In three bytes , Then for 24 position ）."
   ]
  },
  {
   "cell_type": "markdown",
   "id": "7bd64497",
   "metadata": {},
   "source": [
    "## 5) OpenCV Addition"
   ]
  },
  {
   "cell_type": "markdown",
   "id": "e8ca0bc6",
   "metadata": {},
   "source": [
    "In openCV addition of two images, the greyscale levels of magnitude higher than 255 are automatically clipped to 255. Thus the highest output greyscale level obtained from opencv method of addition is 255 for an 8-bit image."
   ]
  },
  {
   "cell_type": "code",
   "execution_count": null,
   "id": "8e10444c",
   "metadata": {},
   "outputs": [],
   "source": [
    "def cvA():\n",
    "    CVSum = cv2.add(img1, img2)\n",
    "\n",
    "    return CVSum"
   ]
  },
  {
   "cell_type": "markdown",
   "id": "ec906107",
   "metadata": {},
   "source": [
    "## 6) Numpy Addition"
   ]
  },
  {
   "cell_type": "markdown",
   "id": "759ef9af",
   "metadata": {},
   "source": [
    "In numpy addition method the the greyscale values which are higher than 255 are reduced or mapped to be more precise to 0-255 range. This is achieved using modular operation which numpy addition uses on the sum of number of pixels exceeding 255, i.e. sum%256 = output grey level."
   ]
  },
  {
   "cell_type": "code",
   "execution_count": null,
   "id": "50aadd5d",
   "metadata": {},
   "outputs": [],
   "source": [
    "def num():\n",
    " \n",
    "     # Applying NumPy addition on images\n",
    "    Oimg = img1 + img2\n",
    " \n",
    "        # Saving the output image\n",
    "        #cv2.imwrite('output.jpg', Oimg)\n",
    "    return Oimg\n",
    "        "
   ]
  },
  {
   "cell_type": "code",
   "execution_count": null,
   "id": "67bb6186",
   "metadata": {},
   "outputs": [],
   "source": [
    "while True:\n",
    "    print(\"\\tMenu:\\n\\\n",
    "           1. Addition \\n\\\n",
    "           2. Subtraction \\n\\\n",
    "           3. Multiplication \\n\\\n",
    "           4. Division \\n\\\n",
    "           5. OpenCV Addition \\n\\\n",
    "           6. Numpy Addition \\n\\\n",
    "           0. Exit\\n\")\n",
    "    c = int(input(print(\"Enter your choice\")))\n",
    "    if c == 1:\n",
    "        final_img=add()\n",
    "       \n",
    "        cv2.imshow('Final Image',final_img)\n",
    "        cv2.waitKey(0)\n",
    "        cv2.destroyAllWindows()\n",
    "    elif c == 2:\n",
    "        final_img=sub()\n",
    "       \n",
    "        cv2.imshow('Final Image',final_img)\n",
    "        cv2.waitKey(0)\n",
    "        cv2.destroyAllWindows()\n",
    "    elif c == 3:\n",
    "        final_img=mul()\n",
    "       \n",
    "        cv2.imshow('Final Image',final_img)\n",
    "        cv2.waitKey(0)\n",
    "        cv2.destroyAllWindows()\n",
    "    elif c == 4:\n",
    "        final_img=div()\n",
    "       \n",
    "        cv2.imshow('Final Image',final_img)\n",
    "        cv2.waitKey(0)\n",
    "    elif c == 5:\n",
    "        final_img=cvA()\n",
    "       \n",
    "        cv2.imshow('Final Image',final_img)\n",
    "        cv2.waitKey(0)\n",
    "    elif c == 6:\n",
    "        final_img=num()\n",
    "       \n",
    "        cv2.imshow('Final Image',final_img)\n",
    "        cv2.waitKey(0)\n",
    "        \n",
    "    elif c == 0:\n",
    "        cv2.destroyAllWindows()\n",
    "        break\n",
    "    else :\n",
    "        default()\n",
    "        break"
   ]
  },
  {
   "cell_type": "code",
   "execution_count": null,
   "id": "799a7fc4",
   "metadata": {},
   "outputs": [],
   "source": []
  }
 ],
 "metadata": {
  "kernelspec": {
   "display_name": "Python 3 (ipykernel)",
   "language": "python",
   "name": "python3"
  },
  "language_info": {
   "codemirror_mode": {
    "name": "ipython",
    "version": 3
   },
   "file_extension": ".py",
   "mimetype": "text/x-python",
   "name": "python",
   "nbconvert_exporter": "python",
   "pygments_lexer": "ipython3",
   "version": "3.8.5"
  }
 },
 "nbformat": 4,
 "nbformat_minor": 5
}
