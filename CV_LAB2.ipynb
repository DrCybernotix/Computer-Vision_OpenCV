{
 "cells": [
  {
   "cell_type": "markdown",
   "id": "dee4854e-4ed5-4021-a334-0133a585a41a",
   "metadata": {},
   "source": [
    "# Menu driven program for implementation of geometric transformations on images. (User interactive)"
   ]
  },
  {
   "cell_type": "markdown",
   "id": "6c0f9a8d-2fd8-439b-9deb-aa5445f6dd96",
   "metadata": {},
   "source": [
    "    Name : Shreyash Bhatkar\n",
    "    Roll no.48\n",
    "    ETA-Batch2 "
   ]
  },
  {
   "cell_type": "markdown",
   "id": "ec1ae766-8704-48a6-9262-ee3e777e87cd",
   "metadata": {},
   "source": [
    "### os- operating system library.\n",
    "### matplotlib- For Matplotlib (Used fot Plotting and Visualization)\n",
    "### numpy- For Numpy (Used for Scientific Computing)"
   ]
  },
  {
   "cell_type": "code",
   "execution_count": 1,
   "id": "5dc62cd2-688e-43d0-bc00-76d9431d2cf8",
   "metadata": {},
   "outputs": [],
   "source": [
    "import cv2\n",
    "import numpy as np\n",
    "from goto import with_goto\n",
    "from matplotlib import pyplot as plt"
   ]
  },
  {
   "cell_type": "code",
   "execution_count": 2,
   "id": "3b414dab-5260-45c2-af9a-db8da98c6a44",
   "metadata": {},
   "outputs": [],
   "source": [
    "img_original = cv2.imread('C:/Users/SHREYASH S BHATKAR/Desktop/CV/nasa.jpg')\n",
    "cv2.imshow('original Image',img_original)\n",
    "cv2.waitKey(0)\n",
    "cv2.destroyAllWindows()\n",
    "\n",
    "img = img_original.copy()"
   ]
  },
  {
   "cell_type": "markdown",
   "id": "2e8301b9",
   "metadata": {},
   "source": [
    "#### taking an input image and saving it in a variable."
   ]
  },
  {
   "cell_type": "markdown",
   "id": "39b6c726-109d-4896-a926-320ac4573acd",
   "metadata": {},
   "source": [
    "### This is the default case when user puts unbounded input this gets executed."
   ]
  },
  {
   "cell_type": "code",
   "execution_count": 3,
   "id": "fe8cf7ab-0903-4e4e-86de-75c80d8221bc",
   "metadata": {},
   "outputs": [],
   "source": [
    "def default():\n",
    "    return \"Incorrect Input\""
   ]
  },
  {
   "cell_type": "markdown",
   "id": "1d3f8492-a271-41b1-b468-13a39088005f",
   "metadata": {},
   "source": [
    "### 1 . Translation "
   ]
  },
  {
   "cell_type": "markdown",
   "id": "007b9197-6263-4911-8c7d-4b037df3fede",
   "metadata": {},
   "source": [
    "### We use warpAffine to transform the image using the matrix\n",
    "### cv2.warpPerspective : takes (3x3) transformation matrix as input.\n",
    "### cv2.warpAffine : takes a (2x3) transformation matrix as input. ."
   ]
  },
  {
   "cell_type": "code",
   "execution_count": 4,
   "id": "b08b3cb5-099a-497e-af0d-269131391879",
   "metadata": {},
   "outputs": [],
   "source": [
    "def trans():    \n",
    "    \n",
    "    img = cv2.imread('C:/Users/SHREYASH S BHATKAR/Desktop/CV/nasa.jpg')\n",
    "    rows,cols = img.shape[:2]\n",
    "    \n",
    "    t_x=int(input(print(\"Enter the translation in x axis\")))\n",
    "    t_y=int(input(print(\"Enter the translation in y axis\")))\n",
    "    \n",
    "    M = np.float32([[1,0,t_x],[0,1,t_y]])\n",
    "    tran = cv2.warpAffine(img,M,(cols,rows))\n",
    "    \n",
    "    return tran\n",
    "    "
   ]
  },
  {
   "cell_type": "markdown",
   "id": "e4c83572-5b03-4728-98bb-ca3ffe856e76",
   "metadata": {},
   "source": [
    "### 2 . Rotation"
   ]
  },
  {
   "cell_type": "markdown",
   "id": "4445d9df-4d24-4595-bec6-b1d9e02e2299",
   "metadata": {},
   "source": [
    ">For transformation matrix, OpenCV provides a function, cv2.getRotationMatrix2D.\n",
    "\n",
    ">Parameters of getRmat func:\n",
    "\n",
    ">center\tCenter of the rotation in the source image.\n",
    "\n",
    ">angle\tRotation angle in degrees. Positive values mean counter-clockwise rotation (the coordinate origin is assumed to be the top-left corner).\n",
    "\n",
    ">scale\tIsotropic scale factor.\n",
    "\n",
    "> cv2.getRotationMatrix2D ( center , angle , scaling factor)"
   ]
  },
  {
   "cell_type": "code",
   "execution_count": 5,
   "id": "202d1718-4f8c-4551-8c1c-2c27e20128e6",
   "metadata": {},
   "outputs": [],
   "source": [
    "def rot(): \n",
    "    img = cv2.imread('C:/Users/SHREYASH S BHATKAR/Desktop/CV/nasa.jpg')\n",
    "\n",
    "    rows,cols = img.shape[:2]\n",
    "    angle=int(input(print(\"Enter the angle\\n\")))\n",
    "    M = cv2.getRotationMatrix2D((cols/2,rows/2),angle,1)\n",
    "    rot = cv2.warpAffine(img,M,(cols,rows))\n",
    "    \n",
    "    return rot"
   ]
  },
  {
   "cell_type": "markdown",
   "id": "2104e7a1-55fa-407f-b69d-c20a1167aa55",
   "metadata": {},
   "source": [
    "### 3 . Scaling:"
   ]
  },
  {
   "cell_type": "markdown",
   "id": "23235fe3-2d6c-4367-a8a7-e7954a54b836",
   "metadata": {},
   "source": [
    "* Scaling is just resizing of the image. \n",
    "* fx & fy are scale factors along x and y \n",
    "> Interpolation methods: \n",
    ">    * cv2.INTER_NEAREST - nearest neighbour interpolation\n",
    ">    * cv2.INTER_CUBIC - bicubic interpolation method uses 4 x 4 nearest neighbours\n",
    ">    * cv2.INTER_LINEAR - bilinear interpolation mthod uses 4 nearest neighbours"
   ]
  },
  {
   "cell_type": "code",
   "execution_count": 6,
   "id": "3456ec96-ef73-4cb1-97f3-074a581cb092",
   "metadata": {},
   "outputs": [],
   "source": [
    "def scale():    \n",
    "    img = cv2.imread('C:/Users/SHREYASH S BHATKAR/Desktop/CV/nasa.jpg')\n",
    "\n",
    "    rows,cols = img.shape[:2]\n",
    "    scale = cv2.resize(img,None,fx=3, fy=1, interpolation = cv2.INTER_CUBIC)\n",
    "    \n",
    "    return scale"
   ]
  },
  {
   "cell_type": "markdown",
   "id": "92dcf630-5649-4a67-b666-1844fb4511dd",
   "metadata": {},
   "source": [
    "### 4 . Cropping"
   ]
  },
  {
   "cell_type": "code",
   "execution_count": 7,
   "id": "47476a2c-d1ee-4db4-91a2-0bbe1eecefc5",
   "metadata": {},
   "outputs": [],
   "source": [
    "def crop():\n",
    "    img = cv2.imread('C:/Users/SHREYASH S BHATKAR/Desktop/CV/nasa.jpg')\n",
    "\n",
    "    rows,cols = img.shape[:2]\n",
    "    y=0\n",
    "    x=0\n",
    "    h=int(input(print(\"Enter the y-limit\")))\n",
    "    w=int(input(print(\"Enter the x-limit\")))\n",
    "    \n",
    "    crop_img = img[y:y+h, x:x+w]\n",
    "    \n",
    "    return crop_img"
   ]
  },
  {
   "cell_type": "markdown",
   "id": "3182a67b-b39d-4905-be52-fdd9aa723696",
   "metadata": {},
   "source": [
    "### 5 . Shearing"
   ]
  },
  {
   "cell_type": "code",
   "execution_count": 8,
   "id": "d97af866-6c19-484d-b5d8-2ceebcfd875f",
   "metadata": {},
   "outputs": [],
   "source": [
    "def shear():   \n",
    "    img = cv2.imread('C:/Users/SHREYASH S BHATKAR/Desktop/CV/nasa.jpg')\n",
    "\n",
    "    rows,cols = img.shape[:2]\n",
    "    \n",
    "    #shearing applied to x-axis\n",
    "    M = np.float32([[1, 0.5, 0],\n",
    "             \t    [0, 1  , 0],\n",
    "            \t    [0, 0  , 1]])\n",
    "    \n",
    "    # shearing applied to y-axis\n",
    "    # M = np.float32([[1,   0, 0],\n",
    "    #             \t  [0.5, 1, 0],\n",
    "    #             \t  [0,   0, 1]])\n",
    "    \n",
    "    sheared_img = cv2.warpPerspective(img,M,(int(cols*1.5),int(rows*1.5)))\n",
    "    \n",
    "    return sheared_img\n",
    "    "
   ]
  },
  {
   "cell_type": "markdown",
   "id": "4ac3a99a-cf99-40e5-897d-acc86eb51698",
   "metadata": {},
   "source": [
    "### 6 . Flipping"
   ]
  },
  {
   "cell_type": "code",
   "execution_count": 9,
   "id": "baa6b704-3e42-4095-874a-028f8db63adf",
   "metadata": {},
   "outputs": [],
   "source": [
    "def flip():\n",
    "    img = cv2.imread('C:/Users/SHREYASH S BHATKAR/Desktop/CV/nasa.jpg')\n",
    "\n",
    "    rows,cols = img.shape[:2]\n",
    "    val=input(print(\"Flip over axis x/y?\"))\n",
    "    if val == 'x':\n",
    "        fl = cv2.flip(img, 0)\n",
    "    elif val == 'y':\n",
    "        fl = cv2.flip(img, 1)\n",
    "    \n",
    "    return fl\n",
    "    "
   ]
  },
  {
   "cell_type": "markdown",
   "id": "833d661e-6020-4880-b608-4ab9f78663b6",
   "metadata": {},
   "source": [
    "### 7 . Driver code"
   ]
  },
  {
   "cell_type": "code",
   "execution_count": 17,
   "id": "a591ec10-10b5-4dbd-a9ea-655e56804645",
   "metadata": {},
   "outputs": [
    {
     "ename": "IndentationError",
     "evalue": "unexpected indent (Temp/ipykernel_14504/837797822.py, line 35)",
     "output_type": "error",
     "traceback": [
      "\u001b[1;36m  File \u001b[1;32m\"C:\\Users\\SHREYA~1\\AppData\\Local\\Temp/ipykernel_14504/837797822.py\"\u001b[1;36m, line \u001b[1;32m35\u001b[0m\n\u001b[1;33m    final_img=crop()\u001b[0m\n\u001b[1;37m    ^\u001b[0m\n\u001b[1;31mIndentationError\u001b[0m\u001b[1;31m:\u001b[0m unexpected indent\n"
     ]
    }
   ],
   "source": [
    "while True:\n",
    "    print(\"\\tMenu:\\n\\\n",
    "           1. Translation \\n\\\n",
    "           2. Rotation \\n\\\n",
    "           3. Scaling \\n\\\n",
    "           4. Cropping \\n\\\n",
    "           5. Shearing \\n\\\n",
    "           6. Flipping \\n\\\n",
    "           0. Exit\\n\")\n",
    "    \n",
    "    c = int(input(print(\"Enter your choice\")))\n",
    "    \n",
    "    if c == 1:\n",
    "        final_img=trans()\n",
    "       \n",
    "        cv2.imshow('Final Image',final_img)\n",
    "        cv2.waitKey(0)\n",
    "        cv2.destroyAllWindows()\n",
    "        \n",
    "    elif c == 2:\n",
    "        final_img=rot()\n",
    "       \n",
    "        cv2.imshow('Final Image',final_img)\n",
    "        cv2.waitKey(0)\n",
    "        cv2.destroyAllWindows()\n",
    "        \n",
    "    elif c == 3:\n",
    "        final_img=scale()\n",
    "       \n",
    "        cv2.imshow('Final Image',final_img)\n",
    "        cv2.waitKey(0)\n",
    "        cv2.destroyAllWindows()\n",
    "        \n",
    "    elif c == 4:\n",
    "        final_img=crop()\n",
    "\n",
    "        cv2.imshow('Final Image',final_img)\n",
    "        cv2.waitKey(0)\n",
    "        cv2.destroyAllWindows()\n",
    "        \n",
    "    elif c == 5:\n",
    "        final_img=shear()\n",
    "       \n",
    "        cv2.imshow('Final Image',final_img)\n",
    "        cv2.waitKey(0)\n",
    "        cv2.destroyAllWindows()\n",
    "        \n",
    "    elif c == 6:\n",
    "        final_img=flip()\n",
    "       \n",
    "        cv2.imshow('Final Image',final_img)\n",
    "        cv2.waitKey(0)\n",
    "        cv2.destroyAllWindows()\n",
    "    elif c == 0:\n",
    "        break\n",
    "    else :\n",
    "        default()\n",
    "        break"
   ]
  },
  {
   "cell_type": "code",
   "execution_count": null,
   "id": "afe7b2aa",
   "metadata": {},
   "outputs": [],
   "source": []
  }
 ],
 "metadata": {
  "kernelspec": {
   "display_name": "Python 3 (ipykernel)",
   "language": "python",
   "name": "python3"
  },
  "language_info": {
   "codemirror_mode": {
    "name": "ipython",
    "version": 3
   },
   "file_extension": ".py",
   "mimetype": "text/x-python",
   "name": "python",
   "nbconvert_exporter": "python",
   "pygments_lexer": "ipython3",
   "version": "3.8.5"
  }
 },
 "nbformat": 4,
 "nbformat_minor": 5
}
