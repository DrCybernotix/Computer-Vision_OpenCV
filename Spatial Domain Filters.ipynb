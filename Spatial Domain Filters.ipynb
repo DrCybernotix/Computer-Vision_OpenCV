{
 "cells": [
  {
   "cell_type": "markdown",
   "id": "fcd8c1cb",
   "metadata": {},
   "source": [
    "# Menu driven program to perform SPATIAL DOMAIN Filters on images"
   ]
  },
  {
   "cell_type": "markdown",
   "id": "982536d1",
   "metadata": {},
   "source": [
    "    Name : Shreyash Bhatkar\n",
    "    Roll no.48\n",
    "    ETA-Batch2 "
   ]
  },
  {
   "cell_type": "markdown",
   "id": "0a3531fa",
   "metadata": {},
   "source": [
    "### Import the necessary packages"
   ]
  },
  {
   "cell_type": "code",
   "execution_count": 1,
   "id": "eb71ff72",
   "metadata": {},
   "outputs": [],
   "source": [
    "import numpy as np\n",
    "import cv2"
   ]
  },
  {
   "cell_type": "code",
   "execution_count": 2,
   "id": "a3cc2495",
   "metadata": {},
   "outputs": [],
   "source": [
    "img = cv2.imread('INT.jpg',0)\n",
    "cv2.imshow('original',img)\n",
    "cv2.waitKey(0)\n",
    "cv2.destroyAllWindows()"
   ]
  },
  {
   "cell_type": "markdown",
   "id": "9298e70b",
   "metadata": {},
   "source": [
    "## 1. Low Pass Average Filter"
   ]
  },
  {
   "cell_type": "markdown",
   "id": "b0804dda",
   "metadata": {},
   "source": [
    "> This equates to computing the average of the pixel values inside that window. This operation is performed for all the pixels in the image to produce the output filtered image. "
   ]
  },
  {
   "cell_type": "code",
   "execution_count": 12,
   "id": "cd77dfec",
   "metadata": {},
   "outputs": [
    {
     "ename": "SyntaxError",
     "evalue": "invalid syntax (Temp/ipykernel_11888/1376529403.py, line 3)",
     "output_type": "error",
     "traceback": [
      "\u001b[1;36m  File \u001b[1;32m\"C:\\Users\\SHREYA~1\\AppData\\Local\\Temp/ipykernel_11888/1376529403.py\"\u001b[1;36m, line \u001b[1;32m3\u001b[0m\n\u001b[1;33m    return 0\u001b[0m\n\u001b[1;37m    ^\u001b[0m\n\u001b[1;31mSyntaxError\u001b[0m\u001b[1;31m:\u001b[0m invalid syntax\n"
     ]
    }
   ],
   "source": [
    "def lpabf():\n",
    "    blurr = cv2.blur(img,(5,5)\n"
   ]
  },
  {
   "cell_type": "markdown",
   "id": "5f3d5dec",
   "metadata": {},
   "source": [
    "## 2. Low Pass Median Filter"
   ]
  },
  {
   "cell_type": "markdown",
   "id": "1e13bfe9",
   "metadata": {},
   "source": [
    "> Computes the median of all the pixels under the kernel window and the central pixel is replaced with this median value. \n",
    "> Effective in removing salt-and-pepper noise."
   ]
  },
  {
   "cell_type": "code",
   "execution_count": 4,
   "id": "b1e441f2",
   "metadata": {},
   "outputs": [],
   "source": [
    "def lpmf():\n",
    "    median = cv2.medianBlur(img,5)\n",
    "    return median"
   ]
  },
  {
   "cell_type": "markdown",
   "id": "d91fdb91",
   "metadata": {},
   "source": [
    "## 3. High Pass Filter"
   ]
  },
  {
   "cell_type": "code",
   "execution_count": null,
   "id": "878fe61b",
   "metadata": {},
   "outputs": [],
   "source": []
  },
  {
   "cell_type": "code",
   "execution_count": 7,
   "id": "a443293a",
   "metadata": {},
   "outputs": [],
   "source": [
    "def hpf():\n",
    "    sigma = int(input(\"Enter the sigma value for hpf:\"))\n",
    "    gaussed = cv2.GaussianBlur(img, (0,0), sigma) + 127\n",
    "    return gaussed "
   ]
  },
  {
   "cell_type": "markdown",
   "id": "4f0f133e",
   "metadata": {},
   "source": [
    "## 4. High Boost Filter"
   ]
  },
  {
   "cell_type": "code",
   "execution_count": null,
   "id": "70215469",
   "metadata": {},
   "outputs": [],
   "source": []
  },
  {
   "cell_type": "code",
   "execution_count": 8,
   "id": "7050334b",
   "metadata": {},
   "outputs": [],
   "source": [
    "def hbf():\n",
    "    # Blur the image\n",
    "    gauss = cv2.GaussianBlur(img, (7,7), 0)\n",
    "    # Apply Unsharp masking\n",
    "    unsharp_image = cv2.addWeighted(img, 2, gauss, -1, 0)\n",
    "    return unsharp_image"
   ]
  },
  {
   "cell_type": "code",
   "execution_count": null,
   "id": "dbe8584b",
   "metadata": {},
   "outputs": [],
   "source": []
  },
  {
   "cell_type": "code",
   "execution_count": 9,
   "id": "c22128f0",
   "metadata": {},
   "outputs": [],
   "source": [
    "def default():\n",
    "    return \"Incorrect Input\""
   ]
  },
  {
   "cell_type": "code",
   "execution_count": 13,
   "id": "df099686",
   "metadata": {},
   "outputs": [
    {
     "name": "stdout",
     "output_type": "stream",
     "text": [
      "\tMenu:\n",
      "           1. Low Pass Average Filter \n",
      "           2. Low Pass Median Filter \n",
      "           3. High Pass Filter \n",
      "           4. High Boost Filter \n",
      "           0. Exit\n",
      "\n",
      "Enter your Choices from above\n",
      "None2\n",
      "\tMenu:\n",
      "           1. Low Pass Average Filter \n",
      "           2. Low Pass Median Filter \n",
      "           3. High Pass Filter \n",
      "           4. High Boost Filter \n",
      "           0. Exit\n",
      "\n",
      "Enter your Choices from above\n",
      "None3\n",
      "Enter the sigma value for hpf:4\n",
      "\tMenu:\n",
      "           1. Low Pass Average Filter \n",
      "           2. Low Pass Median Filter \n",
      "           3. High Pass Filter \n",
      "           4. High Boost Filter \n",
      "           0. Exit\n",
      "\n",
      "Enter your Choices from above\n",
      "None3\n",
      "Enter the sigma value for hpf:0\n"
     ]
    },
    {
     "ename": "error",
     "evalue": "OpenCV(4.5.3) C:\\Users\\runneradmin\\AppData\\Local\\Temp\\pip-req-build-u4kjpz2z\\opencv\\modules\\imgproc\\src\\smooth.dispatch.cpp:294: error: (-215:Assertion failed) ksize.width > 0 && ksize.width % 2 == 1 && ksize.height > 0 && ksize.height % 2 == 1 in function 'cv::createGaussianKernels'\n",
     "output_type": "error",
     "traceback": [
      "\u001b[1;31m---------------------------------------------------------------------------\u001b[0m",
      "\u001b[1;31merror\u001b[0m                                     Traceback (most recent call last)",
      "\u001b[1;32mC:\\Users\\SHREYA~1\\AppData\\Local\\Temp/ipykernel_11888/2385684863.py\u001b[0m in \u001b[0;36m<module>\u001b[1;34m\u001b[0m\n\u001b[0;32m     17\u001b[0m \u001b[1;33m\u001b[0m\u001b[0m\n\u001b[0;32m     18\u001b[0m     \u001b[1;32melif\u001b[0m \u001b[0mc\u001b[0m \u001b[1;33m==\u001b[0m \u001b[1;36m3\u001b[0m\u001b[1;33m:\u001b[0m\u001b[1;33m\u001b[0m\u001b[1;33m\u001b[0m\u001b[0m\n\u001b[1;32m---> 19\u001b[1;33m         \u001b[0mfinal_img\u001b[0m\u001b[1;33m=\u001b[0m\u001b[0mhpf\u001b[0m\u001b[1;33m(\u001b[0m\u001b[1;33m)\u001b[0m\u001b[1;33m\u001b[0m\u001b[1;33m\u001b[0m\u001b[0m\n\u001b[0m\u001b[0;32m     20\u001b[0m \u001b[1;33m\u001b[0m\u001b[0m\n\u001b[0;32m     21\u001b[0m \u001b[1;33m\u001b[0m\u001b[0m\n",
      "\u001b[1;32mC:\\Users\\SHREYA~1\\AppData\\Local\\Temp/ipykernel_11888/181567275.py\u001b[0m in \u001b[0;36mhpf\u001b[1;34m()\u001b[0m\n\u001b[0;32m      1\u001b[0m \u001b[1;32mdef\u001b[0m \u001b[0mhpf\u001b[0m\u001b[1;33m(\u001b[0m\u001b[1;33m)\u001b[0m\u001b[1;33m:\u001b[0m\u001b[1;33m\u001b[0m\u001b[1;33m\u001b[0m\u001b[0m\n\u001b[0;32m      2\u001b[0m     \u001b[0msigma\u001b[0m \u001b[1;33m=\u001b[0m \u001b[0mint\u001b[0m\u001b[1;33m(\u001b[0m\u001b[0minput\u001b[0m\u001b[1;33m(\u001b[0m\u001b[1;34m\"Enter the sigma value for hpf:\"\u001b[0m\u001b[1;33m)\u001b[0m\u001b[1;33m)\u001b[0m\u001b[1;33m\u001b[0m\u001b[1;33m\u001b[0m\u001b[0m\n\u001b[1;32m----> 3\u001b[1;33m     \u001b[0mgaussed\u001b[0m \u001b[1;33m=\u001b[0m \u001b[0mcv2\u001b[0m\u001b[1;33m.\u001b[0m\u001b[0mGaussianBlur\u001b[0m\u001b[1;33m(\u001b[0m\u001b[0mimg\u001b[0m\u001b[1;33m,\u001b[0m \u001b[1;33m(\u001b[0m\u001b[1;36m0\u001b[0m\u001b[1;33m,\u001b[0m\u001b[1;36m0\u001b[0m\u001b[1;33m)\u001b[0m\u001b[1;33m,\u001b[0m \u001b[0msigma\u001b[0m\u001b[1;33m)\u001b[0m \u001b[1;33m+\u001b[0m \u001b[1;36m127\u001b[0m\u001b[1;33m\u001b[0m\u001b[1;33m\u001b[0m\u001b[0m\n\u001b[0m\u001b[0;32m      4\u001b[0m     \u001b[1;32mreturn\u001b[0m \u001b[0mgaussed\u001b[0m\u001b[1;33m\u001b[0m\u001b[1;33m\u001b[0m\u001b[0m\n",
      "\u001b[1;31merror\u001b[0m: OpenCV(4.5.3) C:\\Users\\runneradmin\\AppData\\Local\\Temp\\pip-req-build-u4kjpz2z\\opencv\\modules\\imgproc\\src\\smooth.dispatch.cpp:294: error: (-215:Assertion failed) ksize.width > 0 && ksize.width % 2 == 1 && ksize.height > 0 && ksize.height % 2 == 1 in function 'cv::createGaussianKernels'\n"
     ]
    }
   ],
   "source": [
    "while True:\n",
    "    print(\"\\tMenu:\\n\\\n",
    "           1. Low Pass Average Filter \\n\\\n",
    "           2. Low Pass Median Filter \\n\\\n",
    "           3. High Pass Filter \\n\\\n",
    "           4. High Boost Filter \\n\\\n",
    "           0. Exit\\n\")\n",
    "    c = int(input(print(\"Enter your Choices from above\")))\n",
    "    \n",
    "    if c == 1:\n",
    "        final_img=lpabf()\n",
    "       \n",
    "       \n",
    "    elif c == 2:\n",
    "        final_img=lpmf()\n",
    "       \n",
    "       \n",
    "    elif c == 3:\n",
    "        final_img=hpf()\n",
    "       \n",
    "        \n",
    "    elif c == 4:\n",
    "        final_img=hbf()\n",
    "        \n",
    "   \n",
    "    elif c == 0:\n",
    "        break\n",
    "    else :\n",
    "        default()\n",
    "        break"
   ]
  },
  {
   "cell_type": "code",
   "execution_count": null,
   "id": "b05abb1b",
   "metadata": {},
   "outputs": [],
   "source": []
  }
 ],
 "metadata": {
  "kernelspec": {
   "display_name": "Python 3 (ipykernel)",
   "language": "python",
   "name": "python3"
  },
  "language_info": {
   "codemirror_mode": {
    "name": "ipython",
    "version": 3
   },
   "file_extension": ".py",
   "mimetype": "text/x-python",
   "name": "python",
   "nbconvert_exporter": "python",
   "pygments_lexer": "ipython3",
   "version": "3.8.5"
  }
 },
 "nbformat": 4,
 "nbformat_minor": 5
}
